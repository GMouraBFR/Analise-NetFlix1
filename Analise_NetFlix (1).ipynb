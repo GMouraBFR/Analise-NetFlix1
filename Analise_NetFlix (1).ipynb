{
 "cells": [
  {
   "cell_type": "code",
   "execution_count": 1,
   "id": "c37e80da-df21-4a8b-aa6f-0f0a2e51550f",
   "metadata": {},
   "outputs": [],
   "source": [
    "import zipfile\n",
    "\n",
    "with zipfile.ZipFile(\"netflix-movies-and-tv-shows.zip\", \"r\") as zip_ref:\n",
    "    zip_ref.extractall(\".\")\n"
   ]
  },
  {
   "cell_type": "code",
   "execution_count": 2,
   "id": "46897459-a179-45a7-bdcf-fc406e241b0a",
   "metadata": {},
   "outputs": [
    {
     "data": {
      "text/html": [
       "<div>\n",
       "<style scoped>\n",
       "    .dataframe tbody tr th:only-of-type {\n",
       "        vertical-align: middle;\n",
       "    }\n",
       "\n",
       "    .dataframe tbody tr th {\n",
       "        vertical-align: top;\n",
       "    }\n",
       "\n",
       "    .dataframe thead th {\n",
       "        text-align: right;\n",
       "    }\n",
       "</style>\n",
       "<table border=\"1\" class=\"dataframe\">\n",
       "  <thead>\n",
       "    <tr style=\"text-align: right;\">\n",
       "      <th></th>\n",
       "      <th>show_id</th>\n",
       "      <th>type</th>\n",
       "      <th>title</th>\n",
       "      <th>director</th>\n",
       "      <th>cast</th>\n",
       "      <th>country</th>\n",
       "      <th>date_added</th>\n",
       "      <th>release_year</th>\n",
       "      <th>rating</th>\n",
       "      <th>duration</th>\n",
       "      <th>listed_in</th>\n",
       "      <th>description</th>\n",
       "    </tr>\n",
       "  </thead>\n",
       "  <tbody>\n",
       "    <tr>\n",
       "      <th>0</th>\n",
       "      <td>s1</td>\n",
       "      <td>Movie</td>\n",
       "      <td>Dick Johnson Is Dead</td>\n",
       "      <td>Kirsten Johnson</td>\n",
       "      <td>NaN</td>\n",
       "      <td>United States</td>\n",
       "      <td>September 25, 2021</td>\n",
       "      <td>2020</td>\n",
       "      <td>PG-13</td>\n",
       "      <td>90 min</td>\n",
       "      <td>Documentaries</td>\n",
       "      <td>As her father nears the end of his life, filmm...</td>\n",
       "    </tr>\n",
       "    <tr>\n",
       "      <th>1</th>\n",
       "      <td>s2</td>\n",
       "      <td>TV Show</td>\n",
       "      <td>Blood &amp; Water</td>\n",
       "      <td>NaN</td>\n",
       "      <td>Ama Qamata, Khosi Ngema, Gail Mabalane, Thaban...</td>\n",
       "      <td>South Africa</td>\n",
       "      <td>September 24, 2021</td>\n",
       "      <td>2021</td>\n",
       "      <td>TV-MA</td>\n",
       "      <td>2 Seasons</td>\n",
       "      <td>International TV Shows, TV Dramas, TV Mysteries</td>\n",
       "      <td>After crossing paths at a party, a Cape Town t...</td>\n",
       "    </tr>\n",
       "    <tr>\n",
       "      <th>2</th>\n",
       "      <td>s3</td>\n",
       "      <td>TV Show</td>\n",
       "      <td>Ganglands</td>\n",
       "      <td>Julien Leclercq</td>\n",
       "      <td>Sami Bouajila, Tracy Gotoas, Samuel Jouy, Nabi...</td>\n",
       "      <td>NaN</td>\n",
       "      <td>September 24, 2021</td>\n",
       "      <td>2021</td>\n",
       "      <td>TV-MA</td>\n",
       "      <td>1 Season</td>\n",
       "      <td>Crime TV Shows, International TV Shows, TV Act...</td>\n",
       "      <td>To protect his family from a powerful drug lor...</td>\n",
       "    </tr>\n",
       "    <tr>\n",
       "      <th>3</th>\n",
       "      <td>s4</td>\n",
       "      <td>TV Show</td>\n",
       "      <td>Jailbirds New Orleans</td>\n",
       "      <td>NaN</td>\n",
       "      <td>NaN</td>\n",
       "      <td>NaN</td>\n",
       "      <td>September 24, 2021</td>\n",
       "      <td>2021</td>\n",
       "      <td>TV-MA</td>\n",
       "      <td>1 Season</td>\n",
       "      <td>Docuseries, Reality TV</td>\n",
       "      <td>Feuds, flirtations and toilet talk go down amo...</td>\n",
       "    </tr>\n",
       "    <tr>\n",
       "      <th>4</th>\n",
       "      <td>s5</td>\n",
       "      <td>TV Show</td>\n",
       "      <td>Kota Factory</td>\n",
       "      <td>NaN</td>\n",
       "      <td>Mayur More, Jitendra Kumar, Ranjan Raj, Alam K...</td>\n",
       "      <td>India</td>\n",
       "      <td>September 24, 2021</td>\n",
       "      <td>2021</td>\n",
       "      <td>TV-MA</td>\n",
       "      <td>2 Seasons</td>\n",
       "      <td>International TV Shows, Romantic TV Shows, TV ...</td>\n",
       "      <td>In a city of coaching centers known to train I...</td>\n",
       "    </tr>\n",
       "  </tbody>\n",
       "</table>\n",
       "</div>"
      ],
      "text/plain": [
       "  show_id     type                  title         director  \\\n",
       "0      s1    Movie   Dick Johnson Is Dead  Kirsten Johnson   \n",
       "1      s2  TV Show          Blood & Water              NaN   \n",
       "2      s3  TV Show              Ganglands  Julien Leclercq   \n",
       "3      s4  TV Show  Jailbirds New Orleans              NaN   \n",
       "4      s5  TV Show           Kota Factory              NaN   \n",
       "\n",
       "                                                cast        country  \\\n",
       "0                                                NaN  United States   \n",
       "1  Ama Qamata, Khosi Ngema, Gail Mabalane, Thaban...   South Africa   \n",
       "2  Sami Bouajila, Tracy Gotoas, Samuel Jouy, Nabi...            NaN   \n",
       "3                                                NaN            NaN   \n",
       "4  Mayur More, Jitendra Kumar, Ranjan Raj, Alam K...          India   \n",
       "\n",
       "           date_added  release_year rating   duration  \\\n",
       "0  September 25, 2021          2020  PG-13     90 min   \n",
       "1  September 24, 2021          2021  TV-MA  2 Seasons   \n",
       "2  September 24, 2021          2021  TV-MA   1 Season   \n",
       "3  September 24, 2021          2021  TV-MA   1 Season   \n",
       "4  September 24, 2021          2021  TV-MA  2 Seasons   \n",
       "\n",
       "                                           listed_in  \\\n",
       "0                                      Documentaries   \n",
       "1    International TV Shows, TV Dramas, TV Mysteries   \n",
       "2  Crime TV Shows, International TV Shows, TV Act...   \n",
       "3                             Docuseries, Reality TV   \n",
       "4  International TV Shows, Romantic TV Shows, TV ...   \n",
       "\n",
       "                                         description  \n",
       "0  As her father nears the end of his life, filmm...  \n",
       "1  After crossing paths at a party, a Cape Town t...  \n",
       "2  To protect his family from a powerful drug lor...  \n",
       "3  Feuds, flirtations and toilet talk go down amo...  \n",
       "4  In a city of coaching centers known to train I...  "
      ]
     },
     "execution_count": 2,
     "metadata": {},
     "output_type": "execute_result"
    }
   ],
   "source": [
    "import pandas as pd\n",
    "\n",
    "# Carregar o arquivo CSV descompactado\n",
    "df = pd.read_csv(\"netflix_titles.csv\")\n",
    "\n",
    "# Exibir as primeiras linhas do dataframe\n",
    "df.head()\n"
   ]
  },
  {
   "cell_type": "code",
   "execution_count": 3,
   "id": "70fa0ad4-988a-447a-9c8d-9d3cd090aee2",
   "metadata": {},
   "outputs": [
    {
     "name": "stdout",
     "output_type": "stream",
     "text": [
      "Index(['show_id', 'type', 'title', 'director', 'cast', 'country', 'date_added',\n",
      "       'release_year', 'rating', 'duration', 'listed_in', 'description'],\n",
      "      dtype='object')\n",
      "Quantidade de filmes de Action: 1027\n",
      "Quantidade de filmes de Horror: 432\n",
      "Quantidade de filmes de Science Fiction: 0\n"
     ]
    }
   ],
   "source": [
    "# Verificar as colunas disponíveis no dataframe\n",
    "print(df.columns)\n",
    "\n",
    "# Contar quantos filmes de ação, terror e ficção científica existem no catálogo\n",
    "generos = ['Action', 'Horror', 'Science Fiction']\n",
    "\n",
    "# Filtrar os filmes por gênero e contar\n",
    "for genero in generos:\n",
    "    count = df[df['listed_in'].str.contains(genero, case=False)].shape[0]\n",
    "    print(f\"Quantidade de filmes de {genero}: {count}\")\n"
   ]
  },
  {
   "cell_type": "markdown",
   "id": "3a89e9c8-fb6f-46c0-81b8-a0112202eb50",
   "metadata": {},
   "source": [
    "Quantos títulos estão disponíveis no catálogo?"
   ]
  },
  {
   "cell_type": "code",
   "execution_count": 4,
   "id": "967ab4f0-e23e-4aeb-8e42-f0ead2532298",
   "metadata": {},
   "outputs": [
    {
     "name": "stdout",
     "output_type": "stream",
     "text": [
      "Total de títulos no catálogo: 8807\n"
     ]
    }
   ],
   "source": [
    "total_titles = df.shape[0]\n",
    "print(f\"Total de títulos no catálogo: {total_titles}\")\n",
    "\n"
   ]
  },
  {
   "cell_type": "markdown",
   "id": "ea35e453-50de-40d5-92c4-a2080e7e1901",
   "metadata": {},
   "source": [
    "Qual é a distribuição entre filmes e séries de TV?"
   ]
  },
  {
   "cell_type": "code",
   "execution_count": 5,
   "id": "71c0b505-fa1b-4aba-a2c5-7abe599018f9",
   "metadata": {},
   "outputs": [
    {
     "name": "stdout",
     "output_type": "stream",
     "text": [
      "Distribuição entre filmes e séries de TV:\n",
      "type\n",
      "Movie      6131\n",
      "TV Show    2676\n",
      "Name: count, dtype: int64\n"
     ]
    }
   ],
   "source": [
    "tipo_distribuicao = df['type'].value_counts()\n",
    "print(\"Distribuição entre filmes e séries de TV:\")\n",
    "print(tipo_distribuicao)\n"
   ]
  },
  {
   "cell_type": "markdown",
   "id": "e1879682-0554-48f3-bcbc-bd0f0499d8fa",
   "metadata": {},
   "source": [
    "Quantos títulos são lançamentos recentes (por exemplo, dos últimos 5 anos)?"
   ]
  },
  {
   "cell_type": "code",
   "execution_count": 6,
   "id": "f5dad31e-5f78-4e6f-a33f-761dc752d146",
   "metadata": {},
   "outputs": [
    {
     "name": "stdout",
     "output_type": "stream",
     "text": [
      "Títulos lançados nos últimos 5 anos: 1545\n"
     ]
    }
   ],
   "source": [
    "recent_titles = df[df['release_year'] >= 2020].shape[0]\n",
    "print(f\"Títulos lançados nos últimos 5 anos: {recent_titles}\")\n"
   ]
  },
  {
   "cell_type": "markdown",
   "id": "16f1fdc2-c5dc-426d-9afb-bc1397ccfe73",
   "metadata": {},
   "source": [
    "Quais são os gêneros mais comuns no catálogo da Netflix?"
   ]
  },
  {
   "cell_type": "code",
   "execution_count": 7,
   "id": "3f7fd8ed-e5dc-4580-87a0-f3357fd2a88d",
   "metadata": {},
   "outputs": [
    {
     "name": "stdout",
     "output_type": "stream",
     "text": [
      "Gêneros mais comuns no catálogo:\n",
      "listed_in\n",
      "International Movies        2752\n",
      "Dramas                      2427\n",
      "Comedies                    1674\n",
      "International TV Shows      1351\n",
      "Documentaries                869\n",
      "Action & Adventure           859\n",
      "TV Dramas                    763\n",
      "Independent Movies           756\n",
      "Children & Family Movies     641\n",
      "Romantic Movies              616\n",
      "Name: count, dtype: int64\n"
     ]
    }
   ],
   "source": [
    "generos_comuns = df['listed_in'].str.split(', ').explode().value_counts().head(10)\n",
    "print(\"Gêneros mais comuns no catálogo:\")\n",
    "print(generos_comuns)\n"
   ]
  },
  {
   "cell_type": "markdown",
   "id": "671a0880-47d3-4cc6-827b-c67175517710",
   "metadata": {},
   "source": [
    "Quantos títulos existem em cada um dos principais gêneros (Ação, Terror, Ficção Científica, etc.)?"
   ]
  },
  {
   "cell_type": "code",
   "execution_count": 8,
   "id": "ac068db0-89d5-49d8-8d2d-6aa3a2bd746c",
   "metadata": {},
   "outputs": [
    {
     "name": "stdout",
     "output_type": "stream",
     "text": [
      "Quantidade de filmes de Action: 1027\n",
      "Quantidade de filmes de Horror: 432\n",
      "Quantidade de filmes de Science Fiction: 0\n"
     ]
    }
   ],
   "source": [
    "generos = ['Action', 'Horror', 'Science Fiction']\n",
    "for genero in generos:\n",
    "    count = df[df['listed_in'].str.contains(genero, case=False)].shape[0]\n",
    "    print(f\"Quantidade de filmes de {genero}: {count}\")\n"
   ]
  },
  {
   "cell_type": "markdown",
   "id": "02ff76b1-e726-4e7f-aec1-6848dca68a11",
   "metadata": {},
   "source": [
    "Quais países produzem mais conteúdo disponível no catálogo da Netflix?"
   ]
  },
  {
   "cell_type": "code",
   "execution_count": 9,
   "id": "272cd86d-843f-4646-a8df-fc8485e9353a",
   "metadata": {},
   "outputs": [
    {
     "name": "stdout",
     "output_type": "stream",
     "text": [
      "Países que mais produzem conteúdo no catálogo da Netflix:\n",
      "country\n",
      "United States     2818\n",
      "India              972\n",
      "United Kingdom     419\n",
      "Japan              245\n",
      "South Korea        199\n",
      "Canada             181\n",
      "Spain              145\n",
      "France             124\n",
      "Mexico             110\n",
      "Egypt              106\n",
      "Name: count, dtype: int64\n"
     ]
    }
   ],
   "source": [
    "paises_comuns = df['country'].value_counts().head(10)\n",
    "print(\"Países que mais produzem conteúdo no catálogo da Netflix:\")\n",
    "print(paises_comuns)\n"
   ]
  },
  {
   "cell_type": "markdown",
   "id": "6f331724-12c8-4428-8393-058e5e4b2f49",
   "metadata": {},
   "source": [
    "Como os lançamentos estão distribuídos ao longo dos anos?"
   ]
  },
  {
   "cell_type": "code",
   "execution_count": 10,
   "id": "13e24858-92ea-4ba1-bb63-90432dfc189d",
   "metadata": {},
   "outputs": [
    {
     "data": {
      "image/png": "[encoded data removed]",
      "text/plain": [
       "<Figure size 1200x600 with 1 Axes>"
      ]
     },
     "metadata": {},
     "output_type": "display_data"
    }
   ],
   "source": [
    "import matplotlib.pyplot as plt\n",
    "\n",
    "# Criar o gráfico de barras dos anos de lançamento com rótulos rotacionados\n",
    "fig, ax = plt.subplots(figsize=(12, 6))\n",
    "df['release_year'].value_counts().sort_index().plot(kind='bar', ax=ax)\n",
    "ax.set_title('Distribuição dos Anos de Lançamento')\n",
    "ax.set_xlabel('Ano')\n",
    "ax.set_ylabel('Frequência')\n",
    "plt.xticks(rotation=45, ha='right')  # Rotacionar os rótulos e alinhá-los à direita\n",
    "plt.show()\n",
    "\n"
   ]
  },
  {
   "cell_type": "markdown",
   "id": "51d9a79a-e102-4170-bc8b-1851f205c860",
   "metadata": {},
   "source": [
    "Qual é a média de duração dos filmes?"
   ]
  },
  {
   "cell_type": "code",
   "execution_count": 11,
   "id": "a806981f-b44a-417d-86f7-4d490bf01638",
   "metadata": {},
   "outputs": [
    {
     "name": "stdout",
     "output_type": "stream",
     "text": [
      "Média de duração dos filmes: 99.52846191485891 minutos\n"
     ]
    },
    {
     "name": "stderr",
     "output_type": "stream",
     "text": [
      "C:\\Users\\gusta\\AppData\\Local\\Temp\\ipykernel_19612\\1622317362.py:7: SettingWithCopyWarning: \n",
      "A value is trying to be set on a copy of a slice from a DataFrame.\n",
      "Try using .loc[row_indexer,col_indexer] = value instead\n",
      "\n",
      "See the caveats in the documentation: https://pandas.pydata.org/pandas-docs/stable/user_guide/indexing.html#returning-a-view-versus-a-copy\n",
      "  df_movies['duration'] = df_movies['duration'].str.replace(' min', '').fillna('0')\n",
      "C:\\Users\\gusta\\AppData\\Local\\Temp\\ipykernel_19612\\1622317362.py:10: SettingWithCopyWarning: \n",
      "A value is trying to be set on a copy of a slice from a DataFrame.\n",
      "Try using .loc[row_indexer,col_indexer] = value instead\n",
      "\n",
      "See the caveats in the documentation: https://pandas.pydata.org/pandas-docs/stable/user_guide/indexing.html#returning-a-view-versus-a-copy\n",
      "  df_movies['duration'] = df_movies['duration'].apply(lambda x: int(x) if x.isdigit() else 0)\n"
     ]
    }
   ],
   "source": [
    "import pandas as pd\n",
    "\n",
    "# Filtrar apenas os filmes\n",
    "df_movies = df[df['type'] == 'Movie']\n",
    "\n",
    "# Substituir valores ausentes por 0 e remover texto não relacionado à duração em minutos\n",
    "df_movies['duration'] = df_movies['duration'].str.replace(' min', '').fillna('0')\n",
    "\n",
    "# Garantir que todos os valores são números inteiros\n",
    "df_movies['duration'] = df_movies['duration'].apply(lambda x: int(x) if x.isdigit() else 0)\n",
    "\n",
    "# Calcular a média de duração dos filmes\n",
    "media_duracao = df_movies['duration'].mean()\n",
    "print(f\"Média de duração dos filmes: {media_duracao} minutos\")\n",
    "\n",
    "\n"
   ]
  },
  {
   "cell_type": "markdown",
   "id": "d5e4cb2e-f895-45ee-a67f-2f7c3ebf6109",
   "metadata": {},
   "source": [
    "Qual é a distribuição das classificações de faixa etária (ex.: TV-MA, TV-14, etc.)?"
   ]
  },
  {
   "cell_type": "code",
   "execution_count": 12,
   "id": "27a3c047-5ebd-4d18-b023-ded5b6eac032",
   "metadata": {},
   "outputs": [
    {
     "name": "stdout",
     "output_type": "stream",
     "text": [
      "Distribuição das classificações de faixa etária:\n",
      "rating\n",
      "TV-MA       3207\n",
      "TV-14       2160\n",
      "TV-PG        863\n",
      "R            799\n",
      "PG-13        490\n",
      "TV-Y7        334\n",
      "TV-Y         307\n",
      "PG           287\n",
      "TV-G         220\n",
      "NR            80\n",
      "G             41\n",
      "TV-Y7-FV       6\n",
      "NC-17          3\n",
      "UR             3\n",
      "74 min         1\n",
      "84 min         1\n",
      "66 min         1\n",
      "Name: count, dtype: int64\n"
     ]
    }
   ],
   "source": [
    "classificacao_faixa_etaria = df['rating'].value_counts()\n",
    "print(\"Distribuição das classificações de faixa etária:\")\n",
    "print(classificacao_faixa_etaria)\n"
   ]
  },
  {
   "cell_type": "markdown",
   "id": "6146a239-7604-4240-8124-8717a8ebfb89",
   "metadata": {},
   "source": [
    "Quais atores ou diretores aparecem com mais frequência no catálogo da Netflix?"
   ]
  },
  {
   "cell_type": "code",
   "execution_count": 13,
   "id": "e80c8a55-72db-442a-8513-2af3893690a5",
   "metadata": {},
   "outputs": [
    {
     "name": "stdout",
     "output_type": "stream",
     "text": [
      "Atores mais frequentes no catálogo:\n",
      "cast\n",
      "Anupam Kher         43\n",
      "Shah Rukh Khan      35\n",
      "Julie Tejwani       33\n",
      "Naseeruddin Shah    32\n",
      "Takahiro Sakurai    32\n",
      "Rupa Bhimani        31\n",
      "Akshay Kumar        30\n",
      "Om Puri             30\n",
      "Yuki Kaji           29\n",
      "Paresh Rawal        28\n",
      "Name: count, dtype: int64\n",
      "Diretores mais frequentes no catálogo:\n",
      "director\n",
      "Rajiv Chilaka          22\n",
      "Jan Suter              21\n",
      "Raúl Campos            19\n",
      "Suhas Kadav            16\n",
      "Marcus Raboy           16\n",
      "Jay Karas              15\n",
      "Cathy Garcia-Molina    13\n",
      "Jay Chapman            12\n",
      "Youssef Chahine        12\n",
      "Martin Scorsese        12\n",
      "Name: count, dtype: int64\n"
     ]
    }
   ],
   "source": [
    "# Atores mais frequentes\n",
    "atores_frequentes = df['cast'].str.split(', ').explode().value_counts().head(10)\n",
    "print(\"Atores mais frequentes no catálogo:\")\n",
    "print(atores_frequentes)\n",
    "\n",
    "# Diretores mais frequentes\n",
    "diretores_frequentes = df['director'].str.split(', ').explode().value_counts().head(10)\n",
    "print(\"Diretores mais frequentes no catálogo:\")\n",
    "print(diretores_frequentes)\n"
   ]
  },
  {
   "cell_type": "markdown",
   "id": "696750b7-6964-436f-9ed5-cdbb04ff5022",
   "metadata": {},
   "source": [
    "Criar gráficos de barras dos gêneros mais populares"
   ]
  },
  {
   "cell_type": "code",
   "execution_count": 14,
   "id": "6ae9529a-0f25-4c91-954e-09463d6a01cd",
   "metadata": {},
   "outputs": [
    {
     "data": {
      "image/png": "[encoded data removed]",
      "text/plain": [
       "<Figure size 640x480 with 1 Axes>"
      ]
     },
     "metadata": {},
     "output_type": "display_data"
    }
   ],
   "source": [
    "df['listed_in'].str.split(', ').explode().value_counts().head(10).plot(kind='bar')\n",
    "plt.title('Gêneros Mais Populares')\n",
    "plt.xlabel('Gêneros')\n",
    "plt.ylabel('Quantidade')\n",
    "plt.show()\n"
   ]
  },
  {
   "cell_type": "markdown",
   "id": "93aff664-4b9b-4d2e-a704-605e2f2de87c",
   "metadata": {},
   "source": [
    "Criar histogramas dos anos de lançamento"
   ]
  },
  {
   "cell_type": "code",
   "execution_count": 15,
   "id": "82c62b54-4bcc-4df3-b552-ffbee6797b2a",
   "metadata": {},
   "outputs": [
    {
     "data": {
      "image/png": "[encoded data removed]",
      "text/plain": [
       "<Figure size 640x480 with 1 Axes>"
      ]
     },
     "metadata": {},
     "output_type": "display_data"
    }
   ],
   "source": [
    "df['release_year'].plot(kind='hist', bins=30)\n",
    "plt.title('Distribuição dos Anos de Lançamento')\n",
    "plt.xlabel('Ano')\n",
    "plt.ylabel('Frequência')\n",
    "plt.show()\n"
   ]
  },
  {
   "cell_type": "markdown",
   "id": "3996088c-76d6-4359-8bd3-8f5f24adffb3",
   "metadata": {},
   "source": [
    "Prever o sucesso de um filme ou série com base em características específicas"
   ]
  },
  {
   "cell_type": "code",
   "execution_count": 16,
   "id": "376533be-87f4-400a-8226-98f272942d8b",
   "metadata": {},
   "outputs": [
    {
     "name": "stdout",
     "output_type": "stream",
     "text": [
      "Acurácia: 1.0\n"
     ]
    }
   ],
   "source": [
    "import pandas as pd\n",
    "import numpy as np\n",
    "from sklearn.model_selection import train_test_split\n",
    "from sklearn.ensemble import RandomForestClassifier\n",
    "from sklearn.metrics import accuracy_score\n",
    "\n",
    "# Filtrar apenas os filmes\n",
    "df_movies = df[df['type'] == 'Movie'].copy()\n",
    "\n",
    "# Remover texto não relacionado à duração em minutos e lidar com valores ausentes\n",
    "df_movies['duration'] = df_movies['duration'].str.replace(' min', '')\n",
    "df_movies['duration'] = pd.to_numeric(df_movies['duration'], errors='coerce').fillna(0).astype(int)\n",
    "\n",
    "# Selecionar colunas reais para análise\n",
    "X = df_movies[['release_year', 'duration']]\n",
    "y = df_movies['type']  # Queremos prever se é 'Movie' (aqui só temos filmes, mas para manter o exemplo)\n",
    "\n",
    "# Dividir os dados em treinamento e teste\n",
    "X_train, X_test, y_train, y_test = train_test_split(X, y, test_size=0.3, random_state=42)\n",
    "\n",
    "# Treinar o modelo RandomForest\n",
    "model = RandomForestClassifier()\n",
    "model.fit(X_train, y_train)\n",
    "predictions = model.predict(X_test)\n",
    "\n",
    "# Calcular a acurácia\n",
    "print('Acurácia:', accuracy_score(y_test, predictions))\n",
    "\n"
   ]
  },
  {
   "cell_type": "code",
   "execution_count": null,
   "id": "94836a67-0a80-4559-8f55-092c3480272b",
   "metadata": {},
   "outputs": [],
   "source": []
  }
 ],
 "metadata": {
  "kernelspec": {
   "display_name": "Python 3 (ipykernel)",
   "language": "python",
   "name": "python3"
  },
  "language_info": {
   "codemirror_mode": {
    "name": "ipython",
    "version": 3
   },
   "file_extension": ".py",
   "mimetype": "text/x-python",
   "name": "python",
   "nbconvert_exporter": "python",
   "pygments_lexer": "ipython3",
   "version": "3.12.7"
  }
 },
 "nbformat": 4,
 "nbformat_minor": 5
}
